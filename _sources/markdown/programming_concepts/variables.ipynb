{
 "cells": [
  {
   "cell_type": "markdown",
   "id": "c4b47c0a",
   "metadata": {},
   "source": [
    "# Variables\n",
    "\n",
    "## Key concepts\n",
    "\n",
    "### Assignment\n",
    "\n",
    "We need to attach data to symbols.\n",
    "These symbols are *variables*, and they should feel familiar from mathematics.\n",
    "\n",
    "#### Reading from left to right\n",
    "\n",
    "Reading from left to right, the following code says, *create a variable named `x` and assign it the value `15`*."
   ]
  },
  {
   "cell_type": "code",
   "execution_count": 1,
   "id": "2d9af311",
   "metadata": {},
   "outputs": [],
   "source": [
    "x = 15"
   ]
  },
  {
   "cell_type": "markdown",
   "id": "df83cb50",
   "metadata": {},
   "source": [
    "#### Reading from right to left\n",
    "\n",
    "The previous example can also be read in the other direction.\n",
    "*Assign the value `15` to a variable named `x`*.\n",
    "\n",
    "#### Not just numbers"
   ]
  },
  {
   "cell_type": "code",
   "execution_count": 2,
   "id": "2f78270d",
   "metadata": {},
   "outputs": [
    {
     "name": "stdout",
     "output_type": "stream",
     "text": [
      "Mr. Potato Head\n"
     ]
    }
   ],
   "source": [
    "my_name = \"Mr. Potato Head\"\n",
    "print(my_name)"
   ]
  },
  {
   "cell_type": "markdown",
   "id": "300dc327",
   "metadata": {},
   "source": [
    "### Modification"
   ]
  },
  {
   "cell_type": "code",
   "execution_count": 3,
   "id": "3fb759e4",
   "metadata": {},
   "outputs": [
    {
     "name": "stdout",
     "output_type": "stream",
     "text": [
      "16\n"
     ]
    }
   ],
   "source": [
    "x = x + 1\n",
    "print(x)"
   ]
  },
  {
   "cell_type": "markdown",
   "id": "faea1bd4",
   "metadata": {},
   "source": [
    "Another example:"
   ]
  },
  {
   "cell_type": "code",
   "execution_count": 4,
   "id": "fa661a64",
   "metadata": {},
   "outputs": [
    {
     "name": "stdout",
     "output_type": "stream",
     "text": [
      "11\n"
     ]
    }
   ],
   "source": [
    "y = -5\n",
    "z = x + y\n",
    "print(z)"
   ]
  },
  {
   "cell_type": "markdown",
   "id": "62d4ba7b",
   "metadata": {},
   "source": [
    "### \"Null\" values\n",
    "\n",
    "It is sometimes useful to *not* assign a value when first declaring a variable."
   ]
  },
  {
   "cell_type": "code",
   "execution_count": 5,
   "id": "6e71fe4b",
   "metadata": {},
   "outputs": [],
   "source": [
    "a = None"
   ]
  },
  {
   "cell_type": "markdown",
   "id": "f955efd0",
   "metadata": {},
   "source": [
    "Example:\n",
    "\n",
    "* Our data exist as a set of `key, value` pairs.\n",
    "  For example, the `key` may be a gene name and the `value` a measurement of expression level.\n",
    "* Our analysis does some operation on a `value`.\n",
    "* If we are asked to do an operation on a `key` that does not exist, what should we do?\n",
    "* One option is to return a \"null\" value, which is `None` in Python.\n",
    "\n",
    "## What we learned\n",
    "\n",
    "* Variables are *symbolic names* used to \"hold\" data.\n",
    "* We use the equals sign (`=`) to attach a value to a variable.\n",
    "* Values can be numbers, collections of words in quotes (\"`strings`\"), etc.\n",
    "* Values assigned to variables can be modified.\n",
    "* Variables may be assigned \"null\" values.\n",
    "* Variables can be combined, etc., in various ways.\n",
    "  The methods shown here use regular mathematics symbols like `+`.\n",
    "* There are statements (like `print`) that seem to do things with variables.\n",
    "  The `print` statement is a `function` -- more on those later.\n",
    "\n",
    "## Exceptions and caveats\n",
    "\n",
    "* The concept of \"null\" values gets different treatments in different languages.\n",
    "  `R` has a couple different flavors for different contexts (`NULL`, `NA`).\n",
    "  In `C`, only certain types of variables may be assigned `NULL`.\n",
    "  Etc..\n",
    "* The `=` syntax for assignment is not universal!\n",
    "  In `R`, `x <- 10` is common, and `x = 10` is also allowed.\n",
    "  Believe it or not, they mean different things that matter sometimes but not always!\n",
    "\n",
    "## Questions\n",
    "\n",
    "* What is the \"left to right\" interpretation of `z = x + y` from the last example?\n",
    "* What happens if you try to execute the following code?\n",
    "\n",
    "```python\n",
    "a = None\n",
    "b = 10\n",
    "c = a + b\n",
    "```\n",
    "\n",
    "  What does this tell you, if anything, about `values`?"
   ]
  }
 ],
 "metadata": {
  "jupytext": {
   "formats": "md:myst",
   "text_representation": {
    "extension": ".md",
    "format_name": "myst"
   }
  },
  "kernelspec": {
   "display_name": "Python 3",
   "language": "python",
   "name": "python3"
  },
  "language_info": {
   "codemirror_mode": {
    "name": "ipython",
    "version": 3
   },
   "file_extension": ".py",
   "mimetype": "text/x-python",
   "name": "python",
   "nbconvert_exporter": "python",
   "pygments_lexer": "ipython3",
   "version": "3.8.11"
  },
  "source_map": [
   11,
   26,
   28,
   37,
   40,
   44,
   47,
   51,
   55,
   61,
   63
  ]
 },
 "nbformat": 4,
 "nbformat_minor": 5
}