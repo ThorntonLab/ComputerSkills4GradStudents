{
 "cells": [
  {
   "cell_type": "markdown",
   "id": "e5529f9f",
   "metadata": {},
   "source": [
    "# Managing `R` dependencies\n",
    "\n",
    "## Functionality in `base` `R`\n",
    "\n",
    "Get a list of all currently-loaded libraries:"
   ]
  },
  {
   "cell_type": "code",
   "execution_count": 1,
   "id": "3db77192",
   "metadata": {},
   "outputs": [
    {
     "data": {
      "text/html": [
       "<style>\n",
       ".list-inline {list-style: none; margin:0; padding: 0}\n",
       ".list-inline>li {display: inline-block}\n",
       ".list-inline>li:not(:last-child)::after {content: \"\\00b7\"; padding: 0 .5ex}\n",
       "</style>\n",
       "<ol class=list-inline><li>'stats'</li><li>'graphics'</li><li>'grDevices'</li><li>'utils'</li><li>'datasets'</li><li>'methods'</li><li>'base'</li></ol>\n"
      ],
      "text/latex": [
       "\\begin{enumerate*}\n",
       "\\item 'stats'\n",
       "\\item 'graphics'\n",
       "\\item 'grDevices'\n",
       "\\item 'utils'\n",
       "\\item 'datasets'\n",
       "\\item 'methods'\n",
       "\\item 'base'\n",
       "\\end{enumerate*}\n"
      ],
      "text/markdown": [
       "1. 'stats'\n",
       "2. 'graphics'\n",
       "3. 'grDevices'\n",
       "4. 'utils'\n",
       "5. 'datasets'\n",
       "6. 'methods'\n",
       "7. 'base'\n",
       "\n",
       "\n"
      ],
      "text/plain": [
       "[1] \"stats\"     \"graphics\"  \"grDevices\" \"utils\"     \"datasets\"  \"methods\"  \n",
       "[7] \"base\"     "
      ]
     },
     "metadata": {},
     "output_type": "display_data"
    }
   ],
   "source": [
    "(.packages())"
   ]
  },
  {
   "cell_type": "markdown",
   "id": "e0a921e0",
   "metadata": {},
   "source": [
    "See it change as we load a new library:"
   ]
  },
  {
   "cell_type": "code",
   "execution_count": 2,
   "id": "324b5902",
   "metadata": {},
   "outputs": [
    {
     "name": "stderr",
     "output_type": "stream",
     "text": [
      "\n",
      "Attaching package: ‘dplyr’\n",
      "\n",
      "\n"
     ]
    },
    {
     "name": "stderr",
     "output_type": "stream",
     "text": [
      "The following objects are masked from ‘package:stats’:\n",
      "\n",
      "    filter, lag\n",
      "\n",
      "\n"
     ]
    },
    {
     "name": "stderr",
     "output_type": "stream",
     "text": [
      "The following objects are masked from ‘package:base’:\n",
      "\n",
      "    intersect, setdiff, setequal, union\n",
      "\n",
      "\n"
     ]
    }
   ],
   "source": [
    "library(dplyr)"
   ]
  },
  {
   "cell_type": "code",
   "execution_count": 3,
   "id": "c575dbed",
   "metadata": {},
   "outputs": [
    {
     "data": {
      "text/html": [
       "<style>\n",
       ".list-inline {list-style: none; margin:0; padding: 0}\n",
       ".list-inline>li {display: inline-block}\n",
       ".list-inline>li:not(:last-child)::after {content: \"\\00b7\"; padding: 0 .5ex}\n",
       "</style>\n",
       "<ol class=list-inline><li>'dplyr'</li><li>'stats'</li><li>'graphics'</li><li>'grDevices'</li><li>'utils'</li><li>'datasets'</li><li>'methods'</li><li>'base'</li></ol>\n"
      ],
      "text/latex": [
       "\\begin{enumerate*}\n",
       "\\item 'dplyr'\n",
       "\\item 'stats'\n",
       "\\item 'graphics'\n",
       "\\item 'grDevices'\n",
       "\\item 'utils'\n",
       "\\item 'datasets'\n",
       "\\item 'methods'\n",
       "\\item 'base'\n",
       "\\end{enumerate*}\n"
      ],
      "text/markdown": [
       "1. 'dplyr'\n",
       "2. 'stats'\n",
       "3. 'graphics'\n",
       "4. 'grDevices'\n",
       "5. 'utils'\n",
       "6. 'datasets'\n",
       "7. 'methods'\n",
       "8. 'base'\n",
       "\n",
       "\n"
      ],
      "text/plain": [
       "[1] \"dplyr\"     \"stats\"     \"graphics\"  \"grDevices\" \"utils\"     \"datasets\" \n",
       "[7] \"methods\"   \"base\"     "
      ]
     },
     "metadata": {},
     "output_type": "display_data"
    }
   ],
   "source": [
    "(.packages())"
   ]
  },
  {
   "cell_type": "markdown",
   "id": "2f5ec492",
   "metadata": {},
   "source": [
    "To install a new library:\n",
    "\n",
    "```r\n",
    "install.packages(\"dplyr\", dependencies=TRUE)\n",
    "```\n",
    "\n",
    "Using `RStudio`, select the `Tools` menu, then, `Install packages`.\n",
    "\n",
    "## The `DESCRIPTION` file\n",
    "\n",
    "The `R` analog to Python's `requirements.txt` is a [DESCRIPTION](https://r-pkgs.org/description.html) file.\n",
    "Any package that you `library()` and use can go in this file.\n",
    "\n",
    "A very minimal file may look like this:\n",
    "\n",
    "```\n",
    "Depends:\n",
    "    R (>= 4.1)\n",
    "Imports:\n",
    "    dplyr\n",
    "```\n",
    "\n",
    "```{note}\n",
    "A `DESCRIPTION` file is one of many files needed for a \"proper\" `R` package.\n",
    "By \"proper\", I mean one that you intend to distribute via [CRAN](https://cran.r-project.org/).\n",
    "Here, I am only illustrating its use as a way to list dependencies.\n",
    "```\n",
    "\n",
    "### The `remotes` library\n",
    "\n",
    "The [remotes](https://cran.r-project.org/web/packages/remotes/index.html) library can install the things listed in your `DESCRIPTION` file:\n",
    "\n",
    "```r\n",
    "remotes::install_deps(dependencies=TRUE)\n",
    "```\n",
    "\n",
    "## The `renv` library\n",
    "\n",
    "To install `R` packages into a separate, clean, environment, use [renv](https://rstudio.github.io/renv/articles/renv.html).\n",
    "You will want to experiment/play with this on your own before \"diving in\".\n",
    "Using `renv` affects your work flow, but it will work as advertised."
   ]
  }
 ],
 "metadata": {
  "jupytext": {
   "formats": "md:myst",
   "text_representation": {
    "extension": ".md",
    "format_name": "myst"
   }
  },
  "kernelspec": {
   "display_name": "R",
   "language": "R",
   "name": "ir"
  },
  "language_info": {
   "codemirror_mode": "r",
   "file_extension": ".r",
   "mimetype": "text/x-r-source",
   "name": "R",
   "pygments_lexer": "r",
   "version": "4.1.1"
  },
  "source_map": [
   11,
   19,
   21,
   25,
   29,
   31
  ]
 },
 "nbformat": 4,
 "nbformat_minor": 5
}