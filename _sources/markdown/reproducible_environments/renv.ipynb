{
 "cells": [
  {
   "cell_type": "markdown",
   "id": "78eb7282",
   "metadata": {},
   "source": [
    "# R virtual environments"
   ]
  },
  {
   "cell_type": "code",
   "execution_count": 1,
   "id": "7c0468fe",
   "metadata": {},
   "outputs": [],
   "source": [
    "library(base)"
   ]
  }
 ],
 "metadata": {
  "jupytext": {
   "formats": "md:myst",
   "text_representation": {
    "extension": ".md",
    "format_name": "myst"
   }
  },
  "kernelspec": {
   "display_name": "R",
   "language": "R",
   "name": "ir"
  },
  "language_info": {
   "codemirror_mode": "r",
   "file_extension": ".r",
   "mimetype": "text/x-r-source",
   "name": "R",
   "pygments_lexer": "r",
   "version": "4.1.1"
  },
  "source_map": [
   11,
   15
  ]
 },
 "nbformat": 4,
 "nbformat_minor": 5
}