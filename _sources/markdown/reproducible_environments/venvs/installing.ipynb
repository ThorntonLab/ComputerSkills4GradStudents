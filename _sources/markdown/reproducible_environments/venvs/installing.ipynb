{
 "cells": [
  {
   "cell_type": "markdown",
   "id": "35a703d2",
   "metadata": {},
   "source": [
    "# Installing new software\n",
    "\n",
    "We have created a new `venv` and know a bit about what is in it.\n",
    "Now, let's install some Python packages!\n",
    "\n",
    "## Using the command line\n",
    "\n",
    "To install the Python [seaborn](https://seaborn.pydata.org/) plotting package:\n",
    "\n",
    "```sh\n",
    "pip install seaborn\n",
    "```\n",
    "\n",
    "To uninstall it:\n",
    "\n",
    "```sh\n",
    "pip uninstall seaborn\n",
    "```\n",
    "\n",
    "## `requirements.txt` files\n",
    "\n",
    "Create a file called `requirements.txt` with the following contents:\n",
    "\n",
    "```\n",
    "pandas\n",
    "scipy\n",
    "```\n",
    "\n",
    "Then:\n",
    "\n",
    "```sh\n",
    "pip install -r requirements.txt\n",
    "```\n",
    "\n",
    "The `requirements.txt` file for this book is:"
   ]
  },
  {
   "cell_type": "code",
   "execution_count": 1,
   "id": "ba5617c0",
   "metadata": {
    "tags": [
     "remove-input"
    ]
   },
   "outputs": [
    {
     "name": "stdout",
     "output_type": "stream",
     "text": [
      "jupyter-book\n",
      "matplotlib\n",
      "numpy\n",
      "\n"
     ]
    }
   ],
   "source": [
    "import subprocess\n",
    "\n",
    "result = subprocess.run(['cat', '../../../requirements.txt'], stdout=subprocess.PIPE)\n",
    "print(str(result.stdout.decode('utf8')))"
   ]
  },
  {
   "cell_type": "markdown",
   "id": "76666e7a",
   "metadata": {},
   "source": [
    "## What we learned\n",
    "\n",
    "* `pip` is a command to install Python packages.\n",
    "* We invoke `pip` using the command line.\n",
    "* We may keep a list if packages to install in a file.\n",
    "  By tradition, that file name is called `requirements.txt`.\n",
    "  Other names are allowed.\n",
    "  Multiple \"requirements\" files for different purposes are allowed.\n",
    "\n",
    "[Read more](https://pip.pypa.io/en/stable/user_guide/) about `pip`.\n",
    "The link contains a detailed section on requirements files.\n",
    "Typically, `requirements.txt` lists exactly what you need to get your own code running.\n",
    "For example, if your code makes a bunch of plots using `seaborn`, then simply write `seaborn` in the file.\n",
    "(After reading one of the previous links, feel free to specify an exact or minimal `seaborn` version.)"
   ]
  }
 ],
 "metadata": {
  "jupytext": {
   "formats": "md:myst",
   "text_representation": {
    "extension": ".md",
    "format_name": "myst"
   }
  },
  "kernelspec": {
   "display_name": "Python 3",
   "language": "python",
   "name": "python3"
  },
  "language_info": {
   "codemirror_mode": {
    "name": "ipython",
    "version": 3
   },
   "file_extension": ".py",
   "mimetype": "text/x-python",
   "name": "python",
   "nbconvert_exporter": "python",
   "pygments_lexer": "ipython3",
   "version": "3.8.11"
  },
  "source_map": [
   11,
   49,
   58
  ]
 },
 "nbformat": 4,
 "nbformat_minor": 5
}